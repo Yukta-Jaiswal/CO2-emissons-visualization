{
  "nbformat": 4,
  "nbformat_minor": 0,
  "metadata": {
    "colab": {
      "name": "Untitled15.ipynb",
      "provenance": []
    },
    "kernelspec": {
      "name": "python3",
      "display_name": "Python 3"
    }
  },
  "cells": [
    {
      "cell_type": "code",
      "metadata": {
        "id": "_cBd-vT-oULF"
      },
      "source": [
        "import pandas as pd\n",
        "import numpy as np\n",
        "import matplotlib.pyplot as plt\n"
      ],
      "execution_count": null,
      "outputs": []
    },
    {
      "cell_type": "code",
      "metadata": {
        "id": "TCvdf1OAoby0"
      },
      "source": [
        "temp_ana = pd.read_csv('global_temp_anomaly.csv')\n",
        "temp_ana.head()"
      ],
      "execution_count": null,
      "outputs": []
    },
    {
      "cell_type": "code",
      "metadata": {
        "id": "M1OhRLQtojof"
      },
      "source": [
        "temp_ana.columns"
      ],
      "execution_count": null,
      "outputs": []
    },
    {
      "cell_type": "code",
      "metadata": {
        "id": "Y2oPfGTEox6Y"
      },
      "source": [
        "y = temp_ana['Median (℃)']\n",
        "y2 = temp_ana['Upper (℃)']\n",
        "y3 = temp_ana['Lower (℃)']\n",
        "x = temp_ana['Year']\n",
        "fig = plt.figure()\n",
        "ax = plt.subplot(111)\n",
        "ax.plot(x, y, color='r', label='Median')\n",
        "ax.plot(x, y2, color='b', label='Upper')\n",
        "ax.plot(x, y3, color='g', label='Lower')\n",
        "plt.title('Legend inside')\n",
        "ax.legend()\n",
        "plt.show()\n"
      ],
      "execution_count": null,
      "outputs": []
    },
    {
      "cell_type": "code",
      "metadata": {
        "id": "7osL4tImt9Nd"
      },
      "source": [
        "co2_conc = pd.read_csv('co2-concentration-long-term.csv')\n",
        "co2_conc.head()"
      ],
      "execution_count": null,
      "outputs": []
    },
    {
      "cell_type": "code",
      "metadata": {
        "id": "GFSqljdRt_8I"
      },
      "source": [
        "x = co2_conc['Year']\n",
        "y = co2_conc['CO₂ concentration (parts per million)']\n",
        "plt.plot(x,y)\n",
        "plt.show()"
      ],
      "execution_count": null,
      "outputs": []
    },
    {
      "cell_type": "code",
      "metadata": {
        "id": "aJYwhKGCuEJC"
      },
      "source": [
        "y = data_t['India']\n",
        "y2 = data_t['China']\n",
        "y3 = data_t['United States']\n",
        "y4 = data_t['Australia']\n",
        "x = data_t['Unnamed: 0']\n",
        "fig = plt.figure()\n",
        "ax = plt.subplot(111)\n",
        "ax.plot(x, y, color='r', label='India')\n",
        "ax.plot(x, y2, color='b', label='China')\n",
        "ax.plot(x, y3, color='g', label='United States')\n",
        "ax.plot(x, y4, color='y', label='Australia')\n",
        "plt.title('Legend inside')\n",
        "ax.legend()\n",
        "plt.show()"
      ],
      "execution_count": null,
      "outputs": []
    },
    {
      "cell_type": "code",
      "metadata": {
        "id": "Y41hMMgXuOQx"
      },
      "source": [
        ""
      ],
      "execution_count": null,
      "outputs": []
    },
    {
      "cell_type": "code",
      "metadata": {
        "id": "I2Vo_nbeuFax"
      },
      "source": [
        "indpc = pd.read_csv('india_prod_cons.csv')\n",
        "indpc.head()"
      ],
      "execution_count": null,
      "outputs": []
    },
    {
      "cell_type": "code",
      "metadata": {
        "id": "6tOmrCFPuPN_"
      },
      "source": [
        "x = indpc['Year']\n",
        "y1 = indpc['Consumption-based (tonnes)']\n",
        "y2 = indpc['Production-based (tonnes )']\n",
        "fig = plt.figure()\n",
        "ax = plt.subplot(111)\n",
        "ax.plot(x, y1, marker='o', color='r', label='consumption-based')\n",
        "ax.plot(x, y2, marker='o', color='b', label='production-based')\n",
        "plt.title('Legend inside')\n",
        "ax.legend()\n",
        "plt.show()"
      ],
      "execution_count": null,
      "outputs": []
    },
    {
      "cell_type": "code",
      "metadata": {
        "id": "1Q1Ys40a1Vns"
      },
      "source": [
        "source = pd.read_csv('source.csv')\n",
        "source.head()"
      ],
      "execution_count": null,
      "outputs": []
    },
    {
      "cell_type": "code",
      "metadata": {
        "id": "6pkVxbSt1bDD"
      },
      "source": [
        "y = source['Cement (tonnes)']\n",
        "y2 = source['Flaring (tonnes)']\n",
        "y3 = source['Oil (tonnes)']\n",
        "y4 = source['Coal (tonnes)']\n",
        "y5 = source['Gas (tonnes)']\n",
        "x = source['Year']\n",
        "fig = plt.figure()\n",
        "ax = plt.subplot(111)\n",
        "ax.fill_between(x, y3, color='g', label='Oil')\n",
        "ax.fill_between(x, y4, color='y', label='Coal')\n",
        "ax.fill_between(x, y5, color='c', label='Gas')\n",
        "ax.fill_between(x, y, color='r', label='Cement')\n",
        "ax.fill_between(x, y2, color='b', label='Flaring')\n",
        "plt.title('Legend inside')\n",
        "ax.legend()\n",
        "plt.show()"
      ],
      "execution_count": null,
      "outputs": []
    },
    {
      "cell_type": "code",
      "metadata": {
        "id": "3OsSrADt4Oqr"
      },
      "source": [
        "sector = pd.read_csv('sector.csv')\n",
        "sector.head()"
      ],
      "execution_count": null,
      "outputs": []
    },
    {
      "cell_type": "code",
      "metadata": {
        "id": "p74hkMXZ4UvC"
      },
      "source": [
        "sector.columns"
      ],
      "execution_count": null,
      "outputs": []
    },
    {
      "cell_type": "code",
      "metadata": {
        "id": "X8trycEQ4YYz"
      },
      "source": [
        "y = sector['Transport (%)']\n",
        "y2 = sector['Electricity and heat production (%)']\n",
        "y3 = sector['Manufacturing industries & construction (%)']\n",
        "y4 = sector['Other sectors (%)']\n",
        "y5 = sector['Residential buildings & commercial and public services (%)']\n",
        "x = sector['Year']\n",
        "fig = plt.figure()\n",
        "ax = plt.subplot(111)\n",
        "ax.fill_between(x, y3, color='g', label='Transport')\n",
        "ax.fill_between(x, y2, color='b', label='Electricity')\n",
        "ax.fill_between(x, y5, color='c', label='Manufacturing')\n",
        "ax.fill_between(x, y, color='r', label='Others')\n",
        "ax.fill_between(x, y4, color='y', label='Residential')\n",
        "plt.title('Legend inside')\n",
        "ax.legend()\n",
        "plt.show()"
      ],
      "execution_count": null,
      "outputs": []
    },
    {
      "cell_type": "code",
      "metadata": {
        "id": "vqwHW4zl6x4R"
      },
      "source": [
        "global_ppm = pd.read_csv('global-co-concentration-ppm.csv')\n",
        "global_ppm.head()"
      ],
      "execution_count": null,
      "outputs": []
    },
    {
      "cell_type": "code",
      "metadata": {
        "id": "_9lwcQAt62LN"
      },
      "source": [
        "global_ppm.columns"
      ],
      "execution_count": null,
      "outputs": []
    },
    {
      "cell_type": "code",
      "metadata": {
        "id": "6zX9vU4367Y8"
      },
      "source": [
        "x = global_ppm['Year']\n",
        "y = global_ppm['CO₂ concentration (parts per million)']\n",
        "plt.plot(x,y)"
      ],
      "execution_count": null,
      "outputs": []
    }
  ]
}